{
 "cells": [
  {
   "cell_type": "markdown",
   "metadata": {},
   "source": [
    "The setup consists of 4 hotel rooms and 7 wifi access points. All the 7 wifi APs are accessible from each room, but with different signal strengths. The signal strengths are in dBm. The task is to train a model which can accurately predict the room number, given the strengths of wifi signals from all the seven APs."
   ]
  },
  {
   "cell_type": "code",
   "execution_count": 1,
   "metadata": {},
   "outputs": [],
   "source": [
    "\n",
    "import matplotlib.pyplot as plt\n",
    "from matplotlib import style\n",
    "import seaborn as sns\n",
    "sns.set_style('whitegrid')\n",
    "\n",
    "\n",
    "import warnings\n",
    "warnings.filterwarnings(\"ignore\", category=DeprecationWarning)"
   ]
  },
  {
   "cell_type": "code",
   "execution_count": 2,
   "metadata": {},
   "outputs": [
    {
     "data": {
      "text/html": [
       "<div>\n",
       "<style scoped>\n",
       "    .dataframe tbody tr th:only-of-type {\n",
       "        vertical-align: middle;\n",
       "    }\n",
       "\n",
       "    .dataframe tbody tr th {\n",
       "        vertical-align: top;\n",
       "    }\n",
       "\n",
       "    .dataframe thead th {\n",
       "        text-align: right;\n",
       "    }\n",
       "</style>\n",
       "<table border=\"1\" class=\"dataframe\">\n",
       "  <thead>\n",
       "    <tr style=\"text-align: right;\">\n",
       "      <th></th>\n",
       "      <th>id</th>\n",
       "      <th>wifi1</th>\n",
       "      <th>wifi2</th>\n",
       "      <th>wifi3</th>\n",
       "      <th>wifi4</th>\n",
       "      <th>wifi5</th>\n",
       "      <th>wifi6</th>\n",
       "      <th>wifi7</th>\n",
       "      <th>room</th>\n",
       "    </tr>\n",
       "  </thead>\n",
       "  <tbody>\n",
       "    <tr>\n",
       "      <th>0</th>\n",
       "      <td>ID_1</td>\n",
       "      <td>-64</td>\n",
       "      <td>-56</td>\n",
       "      <td>-61</td>\n",
       "      <td>-66</td>\n",
       "      <td>-71</td>\n",
       "      <td>-82</td>\n",
       "      <td>-81</td>\n",
       "      <td>1</td>\n",
       "    </tr>\n",
       "    <tr>\n",
       "      <th>1</th>\n",
       "      <td>ID_2</td>\n",
       "      <td>-68</td>\n",
       "      <td>-57</td>\n",
       "      <td>-61</td>\n",
       "      <td>-65</td>\n",
       "      <td>-71</td>\n",
       "      <td>-85</td>\n",
       "      <td>-85</td>\n",
       "      <td>1</td>\n",
       "    </tr>\n",
       "    <tr>\n",
       "      <th>2</th>\n",
       "      <td>ID_3</td>\n",
       "      <td>-63</td>\n",
       "      <td>-60</td>\n",
       "      <td>-60</td>\n",
       "      <td>-67</td>\n",
       "      <td>-76</td>\n",
       "      <td>-85</td>\n",
       "      <td>-84</td>\n",
       "      <td>1</td>\n",
       "    </tr>\n",
       "    <tr>\n",
       "      <th>3</th>\n",
       "      <td>ID_4</td>\n",
       "      <td>-61</td>\n",
       "      <td>-60</td>\n",
       "      <td>-68</td>\n",
       "      <td>-62</td>\n",
       "      <td>-77</td>\n",
       "      <td>-90</td>\n",
       "      <td>-80</td>\n",
       "      <td>1</td>\n",
       "    </tr>\n",
       "    <tr>\n",
       "      <th>4</th>\n",
       "      <td>ID_5</td>\n",
       "      <td>-63</td>\n",
       "      <td>-65</td>\n",
       "      <td>-60</td>\n",
       "      <td>-63</td>\n",
       "      <td>-77</td>\n",
       "      <td>-81</td>\n",
       "      <td>-87</td>\n",
       "      <td>1</td>\n",
       "    </tr>\n",
       "  </tbody>\n",
       "</table>\n",
       "</div>"
      ],
      "text/plain": [
       "     id  wifi1  wifi2  wifi3  wifi4  wifi5  wifi6  wifi7  room\n",
       "0  ID_1    -64    -56    -61    -66    -71    -82    -81     1\n",
       "1  ID_2    -68    -57    -61    -65    -71    -85    -85     1\n",
       "2  ID_3    -63    -60    -60    -67    -76    -85    -84     1\n",
       "3  ID_4    -61    -60    -68    -62    -77    -90    -80     1\n",
       "4  ID_5    -63    -65    -60    -63    -77    -81    -87     1"
      ]
     },
     "execution_count": 2,
     "metadata": {},
     "output_type": "execute_result"
    }
   ],
   "source": [
    "import pandas as pd\n",
    "%matplotlib inline\n",
    "import numpy as np\n",
    "data_train=pd.read_csv('train.csv')\n",
    "data_train.head()"
   ]
  },
  {
   "cell_type": "markdown",
   "metadata": {},
   "source": [
    "We notice that there are no categorical features at all - besides the class column. As some machine learning models can't handle categorical feature columns at all, we will encode this column to be a numerical column later on.\n"
   ]
  },
  {
   "cell_type": "code",
   "execution_count": 3,
   "metadata": {},
   "outputs": [
    {
     "name": "stdout",
     "output_type": "stream",
     "text": [
      "<class 'pandas.core.frame.DataFrame'>\n",
      "RangeIndex: 1500 entries, 0 to 1499\n",
      "Data columns (total 9 columns):\n",
      "id       1500 non-null object\n",
      "wifi1    1500 non-null int64\n",
      "wifi2    1500 non-null int64\n",
      "wifi3    1500 non-null int64\n",
      "wifi4    1500 non-null int64\n",
      "wifi5    1500 non-null int64\n",
      "wifi6    1500 non-null int64\n",
      "wifi7    1500 non-null int64\n",
      "room     1500 non-null int64\n",
      "dtypes: int64(8), object(1)\n",
      "memory usage: 105.5+ KB\n"
     ]
    }
   ],
   "source": [
    "data_train.info()"
   ]
  },
  {
   "cell_type": "markdown",
   "metadata": {},
   "source": [
    "The dataset has 1500 examples, 8 feature columns and 1 target column. \n"
   ]
  },
  {
   "cell_type": "code",
   "execution_count": 4,
   "metadata": {},
   "outputs": [
    {
     "data": {
      "text/html": [
       "<div>\n",
       "<style scoped>\n",
       "    .dataframe tbody tr th:only-of-type {\n",
       "        vertical-align: middle;\n",
       "    }\n",
       "\n",
       "    .dataframe tbody tr th {\n",
       "        vertical-align: top;\n",
       "    }\n",
       "\n",
       "    .dataframe thead th {\n",
       "        text-align: right;\n",
       "    }\n",
       "</style>\n",
       "<table border=\"1\" class=\"dataframe\">\n",
       "  <thead>\n",
       "    <tr style=\"text-align: right;\">\n",
       "      <th></th>\n",
       "      <th>id</th>\n",
       "      <th>wifi1</th>\n",
       "      <th>wifi2</th>\n",
       "      <th>wifi3</th>\n",
       "      <th>wifi4</th>\n",
       "      <th>wifi5</th>\n",
       "      <th>wifi6</th>\n",
       "      <th>wifi7</th>\n",
       "    </tr>\n",
       "  </thead>\n",
       "  <tbody>\n",
       "    <tr>\n",
       "      <th>0</th>\n",
       "      <td>ID_1</td>\n",
       "      <td>-62</td>\n",
       "      <td>-51</td>\n",
       "      <td>-54</td>\n",
       "      <td>-60</td>\n",
       "      <td>-74</td>\n",
       "      <td>-74</td>\n",
       "      <td>-82</td>\n",
       "    </tr>\n",
       "    <tr>\n",
       "      <th>1</th>\n",
       "      <td>ID_2</td>\n",
       "      <td>-57</td>\n",
       "      <td>-54</td>\n",
       "      <td>-51</td>\n",
       "      <td>-60</td>\n",
       "      <td>-47</td>\n",
       "      <td>-84</td>\n",
       "      <td>-88</td>\n",
       "    </tr>\n",
       "    <tr>\n",
       "      <th>2</th>\n",
       "      <td>ID_3</td>\n",
       "      <td>-56</td>\n",
       "      <td>-55</td>\n",
       "      <td>-44</td>\n",
       "      <td>-60</td>\n",
       "      <td>-51</td>\n",
       "      <td>-84</td>\n",
       "      <td>-86</td>\n",
       "    </tr>\n",
       "    <tr>\n",
       "      <th>3</th>\n",
       "      <td>ID_4</td>\n",
       "      <td>-19</td>\n",
       "      <td>-60</td>\n",
       "      <td>-54</td>\n",
       "      <td>-35</td>\n",
       "      <td>-69</td>\n",
       "      <td>-69</td>\n",
       "      <td>-78</td>\n",
       "    </tr>\n",
       "    <tr>\n",
       "      <th>4</th>\n",
       "      <td>ID_5</td>\n",
       "      <td>-67</td>\n",
       "      <td>-56</td>\n",
       "      <td>-60</td>\n",
       "      <td>-66</td>\n",
       "      <td>-73</td>\n",
       "      <td>-93</td>\n",
       "      <td>-87</td>\n",
       "    </tr>\n",
       "  </tbody>\n",
       "</table>\n",
       "</div>"
      ],
      "text/plain": [
       "     id  wifi1  wifi2  wifi3  wifi4  wifi5  wifi6  wifi7\n",
       "0  ID_1    -62    -51    -54    -60    -74    -74    -82\n",
       "1  ID_2    -57    -54    -51    -60    -47    -84    -88\n",
       "2  ID_3    -56    -55    -44    -60    -51    -84    -86\n",
       "3  ID_4    -19    -60    -54    -35    -69    -69    -78\n",
       "4  ID_5    -67    -56    -60    -66    -73    -93    -87"
      ]
     },
     "execution_count": 4,
     "metadata": {},
     "output_type": "execute_result"
    }
   ],
   "source": [
    "data_test=pd.read_csv('test.csv')\n",
    "data_test.head()"
   ]
  },
  {
   "cell_type": "code",
   "execution_count": 5,
   "metadata": {},
   "outputs": [
    {
     "data": {
      "text/html": [
       "<div>\n",
       "<style scoped>\n",
       "    .dataframe tbody tr th:only-of-type {\n",
       "        vertical-align: middle;\n",
       "    }\n",
       "\n",
       "    .dataframe tbody tr th {\n",
       "        vertical-align: top;\n",
       "    }\n",
       "\n",
       "    .dataframe thead th {\n",
       "        text-align: right;\n",
       "    }\n",
       "</style>\n",
       "<table border=\"1\" class=\"dataframe\">\n",
       "  <thead>\n",
       "    <tr style=\"text-align: right;\">\n",
       "      <th></th>\n",
       "      <th>wifi1</th>\n",
       "      <th>wifi2</th>\n",
       "      <th>wifi3</th>\n",
       "      <th>wifi4</th>\n",
       "      <th>wifi5</th>\n",
       "      <th>wifi6</th>\n",
       "      <th>wifi7</th>\n",
       "      <th>room</th>\n",
       "    </tr>\n",
       "  </thead>\n",
       "  <tbody>\n",
       "    <tr>\n",
       "      <th>count</th>\n",
       "      <td>1500.000000</td>\n",
       "      <td>1500.00000</td>\n",
       "      <td>1500.000000</td>\n",
       "      <td>1500.000000</td>\n",
       "      <td>1500.000000</td>\n",
       "      <td>1500.000000</td>\n",
       "      <td>1500.000000</td>\n",
       "      <td>1500.000000</td>\n",
       "    </tr>\n",
       "    <tr>\n",
       "      <th>mean</th>\n",
       "      <td>-52.319333</td>\n",
       "      <td>-55.95800</td>\n",
       "      <td>-55.319333</td>\n",
       "      <td>-53.800667</td>\n",
       "      <td>-62.905333</td>\n",
       "      <td>-81.188000</td>\n",
       "      <td>-81.973333</td>\n",
       "      <td>2.500000</td>\n",
       "    </tr>\n",
       "    <tr>\n",
       "      <th>std</th>\n",
       "      <td>11.672883</td>\n",
       "      <td>3.37834</td>\n",
       "      <td>5.132666</td>\n",
       "      <td>11.732435</td>\n",
       "      <td>9.127024</td>\n",
       "      <td>6.679002</td>\n",
       "      <td>6.676002</td>\n",
       "      <td>1.118407</td>\n",
       "    </tr>\n",
       "    <tr>\n",
       "      <th>min</th>\n",
       "      <td>-74.000000</td>\n",
       "      <td>-74.00000</td>\n",
       "      <td>-73.000000</td>\n",
       "      <td>-77.000000</td>\n",
       "      <td>-89.000000</td>\n",
       "      <td>-97.000000</td>\n",
       "      <td>-98.000000</td>\n",
       "      <td>1.000000</td>\n",
       "    </tr>\n",
       "    <tr>\n",
       "      <th>25%</th>\n",
       "      <td>-61.000000</td>\n",
       "      <td>-58.00000</td>\n",
       "      <td>-58.250000</td>\n",
       "      <td>-63.000000</td>\n",
       "      <td>-69.000000</td>\n",
       "      <td>-86.000000</td>\n",
       "      <td>-87.000000</td>\n",
       "      <td>1.750000</td>\n",
       "    </tr>\n",
       "    <tr>\n",
       "      <th>50%</th>\n",
       "      <td>-55.000000</td>\n",
       "      <td>-56.00000</td>\n",
       "      <td>-55.000000</td>\n",
       "      <td>-56.000000</td>\n",
       "      <td>-64.000000</td>\n",
       "      <td>-82.000000</td>\n",
       "      <td>-83.000000</td>\n",
       "      <td>2.500000</td>\n",
       "    </tr>\n",
       "    <tr>\n",
       "      <th>75%</th>\n",
       "      <td>-46.000000</td>\n",
       "      <td>-54.00000</td>\n",
       "      <td>-52.000000</td>\n",
       "      <td>-47.000000</td>\n",
       "      <td>-56.000000</td>\n",
       "      <td>-77.000000</td>\n",
       "      <td>-78.000000</td>\n",
       "      <td>3.250000</td>\n",
       "    </tr>\n",
       "    <tr>\n",
       "      <th>max</th>\n",
       "      <td>-10.000000</td>\n",
       "      <td>-46.00000</td>\n",
       "      <td>-40.000000</td>\n",
       "      <td>-11.000000</td>\n",
       "      <td>-36.000000</td>\n",
       "      <td>-61.000000</td>\n",
       "      <td>-63.000000</td>\n",
       "      <td>4.000000</td>\n",
       "    </tr>\n",
       "  </tbody>\n",
       "</table>\n",
       "</div>"
      ],
      "text/plain": [
       "             wifi1       wifi2        wifi3        wifi4        wifi5  \\\n",
       "count  1500.000000  1500.00000  1500.000000  1500.000000  1500.000000   \n",
       "mean    -52.319333   -55.95800   -55.319333   -53.800667   -62.905333   \n",
       "std      11.672883     3.37834     5.132666    11.732435     9.127024   \n",
       "min     -74.000000   -74.00000   -73.000000   -77.000000   -89.000000   \n",
       "25%     -61.000000   -58.00000   -58.250000   -63.000000   -69.000000   \n",
       "50%     -55.000000   -56.00000   -55.000000   -56.000000   -64.000000   \n",
       "75%     -46.000000   -54.00000   -52.000000   -47.000000   -56.000000   \n",
       "max     -10.000000   -46.00000   -40.000000   -11.000000   -36.000000   \n",
       "\n",
       "             wifi6        wifi7         room  \n",
       "count  1500.000000  1500.000000  1500.000000  \n",
       "mean    -81.188000   -81.973333     2.500000  \n",
       "std       6.679002     6.676002     1.118407  \n",
       "min     -97.000000   -98.000000     1.000000  \n",
       "25%     -86.000000   -87.000000     1.750000  \n",
       "50%     -82.000000   -83.000000     2.500000  \n",
       "75%     -77.000000   -78.000000     3.250000  \n",
       "max     -61.000000   -63.000000     4.000000  "
      ]
     },
     "execution_count": 5,
     "metadata": {},
     "output_type": "execute_result"
    }
   ],
   "source": [
    "data_train.describe()"
   ]
  },
  {
   "cell_type": "markdown",
   "metadata": {},
   "source": [
    "\n",
    "\n",
    "From the above table we can tell that are no missing values at all. This means: no imputing!\n",
    "\n",
    "We also notice that most of the features stay within a reasonable scale when comparing values within only one column. We can recognize this from the min, max and quartil rows.\n"
   ]
  },
  {
   "cell_type": "code",
   "execution_count": 6,
   "metadata": {},
   "outputs": [],
   "source": [
    "column_target=['room']\n",
    "column_train=['wifi1','wifi2','wifi3','wifi4','wifi5','wifi6','wifi7']\n",
    "X=data_train[column_train]\n",
    "Y=data_train[column_target]"
   ]
  },
  {
   "cell_type": "code",
   "execution_count": 7,
   "metadata": {},
   "outputs": [
    {
     "data": {
      "text/plain": [
       "4    375\n",
       "3    375\n",
       "2    375\n",
       "1    375\n",
       "Name: room, dtype: int64"
      ]
     },
     "execution_count": 7,
     "metadata": {},
     "output_type": "execute_result"
    }
   ],
   "source": [
    "data_train['room'].value_counts()"
   ]
  },
  {
   "cell_type": "code",
   "execution_count": 8,
   "metadata": {},
   "outputs": [
    {
     "data": {
      "text/plain": [
       "wifi1        AxesSubplot(0.125,0.71587;0.168478x0.16413)\n",
       "wifi2     AxesSubplot(0.327174,0.71587;0.168478x0.16413)\n",
       "wifi3     AxesSubplot(0.529348,0.71587;0.168478x0.16413)\n",
       "wifi4     AxesSubplot(0.731522,0.71587;0.168478x0.16413)\n",
       "wifi5       AxesSubplot(0.125,0.518913;0.168478x0.16413)\n",
       "wifi6    AxesSubplot(0.327174,0.518913;0.168478x0.16413)\n",
       "wifi7    AxesSubplot(0.529348,0.518913;0.168478x0.16413)\n",
       "room     AxesSubplot(0.731522,0.518913;0.168478x0.16413)\n",
       "dtype: object"
      ]
     },
     "execution_count": 8,
     "metadata": {},
     "output_type": "execute_result"
    },
    {
     "data": {
      "image/png": "[encoded data removed]",
      "text/plain": [
       "<matplotlib.figure.Figure at 0x7f1142980710>"
      ]
     },
     "metadata": {},
     "output_type": "display_data"
    }
   ],
   "source": [
    "data_train.plot(kind='box', subplots=True, layout=(4,4))"
   ]
  },
  {
   "cell_type": "code",
   "execution_count": 9,
   "metadata": {},
   "outputs": [
    {
     "name": "stdout",
     "output_type": "stream",
     "text": [
      "          wifi1     wifi2     wifi3     wifi4     wifi5     wifi6     wifi7  \\\n",
      "wifi1  1.000000 -0.025001  0.008173  0.923140 -0.264992  0.719425  0.681010   \n",
      "wifi2 -0.025001  1.000000  0.266312 -0.015241  0.171894  0.064655  0.037988   \n",
      "wifi3  0.008173  0.266312  1.000000  0.047409  0.598848 -0.106953 -0.090573   \n",
      "wifi4  0.923140 -0.015241  0.047409  1.000000 -0.251789  0.701984  0.667914   \n",
      "wifi5 -0.264992  0.171894  0.598848 -0.251789  1.000000 -0.424032 -0.366804   \n",
      "wifi6  0.719425  0.064655 -0.106953  0.701984 -0.424032  1.000000  0.726351   \n",
      "wifi7  0.681010  0.037988 -0.090573  0.667914 -0.366804  0.726351  1.000000   \n",
      "room  -0.084136  0.116089  0.663055 -0.051578  0.813521 -0.368125 -0.315843   \n",
      "\n",
      "           room  \n",
      "wifi1 -0.084136  \n",
      "wifi2  0.116089  \n",
      "wifi3  0.663055  \n",
      "wifi4 -0.051578  \n",
      "wifi5  0.813521  \n",
      "wifi6 -0.368125  \n",
      "wifi7 -0.315843  \n",
      "room   1.000000  \n"
     ]
    }
   ],
   "source": [
    "print( data_train.corr(method='pearson'))"
   ]
  },
  {
   "cell_type": "code",
   "execution_count": 10,
   "metadata": {},
   "outputs": [
    {
     "data": {
      "text/plain": [
       "Text(0.5,1,'room 4')"
      ]
     },
     "execution_count": 10,
     "metadata": {},
     "output_type": "execute_result"
    },
    {
     "data": {
      "image/png": "[encoded data removed]",
      "text/plain": [
       "<matplotlib.figure.Figure at 0x7f11404dbc88>"
      ]
     },
     "metadata": {},
     "output_type": "display_data"
    }
   ],
   "source": [
    "fig, axes = plt.subplots(nrows=1, ncols=4,figsize=(16, 4))\n",
    "fig.set_dpi(100)\n",
    "ax = sns.heatmap(data_train[data_train['room']==1][['wifi1','wifi2','wifi3','wifi4','wifi5','wifi6','wifi7']].corr(), ax = axes[0], cmap='coolwarm')\n",
    "ax.set_title('room 1')\n",
    "ax = sns.heatmap(data_train[data_train['room']==2][['wifi1','wifi2','wifi3','wifi4','wifi5','wifi6','wifi7']].corr(), ax = axes[1], cmap='coolwarm')\n",
    "ax.set_title('room 2')\n",
    "ax = sns.heatmap(data_train[data_train['room']==3][['wifi1','wifi2','wifi3','wifi4','wifi5','wifi6','wifi7']].corr(), ax = axes[2], cmap='coolwarm')\n",
    "ax.set_title('room 3')\n",
    "ax = sns.heatmap(data_train[data_train['room']==4][['wifi1','wifi2','wifi3','wifi4','wifi5','wifi6','wifi7']].corr(), ax = axes[3], cmap='coolwarm')\n",
    "ax.set_title('room 4')"
   ]
  },
  {
   "cell_type": "markdown",
   "metadata": {},
   "source": [
    "For rooom 1,none of feature is highly correlated.For room 2,wifi 1 and wifi 4 are correlated more than 50percent."
   ]
  },
  {
   "cell_type": "code",
   "execution_count": null,
   "metadata": {
    "collapsed": true
   },
   "outputs": [],
   "source": []
  }
 ],
 "metadata": {
  "kernelspec": {
   "display_name": "Python 3",
   "language": "python",
   "name": "python3"
  },
  "language_info": {
   "codemirror_mode": {
    "name": "ipython",
    "version": 3
   },
   "file_extension": ".py",
   "mimetype": "text/x-python",
   "name": "python",
   "nbconvert_exporter": "python",
   "pygments_lexer": "ipython3",
   "version": "3.6.4"
  }
 },
 "nbformat": 4,
 "nbformat_minor": 2
}
